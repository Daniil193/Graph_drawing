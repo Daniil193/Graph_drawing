{
 "cells": [
  {
   "cell_type": "markdown",
   "metadata": {},
   "source": [
    "## Загружаем необходимые библиотеки"
   ]
  },
  {
   "cell_type": "code",
   "execution_count": null,
   "metadata": {},
   "outputs": [],
   "source": [
    "import numpy as np\n",
    "import pandas as pd\n",
    "from graphviz import Digraph\n",
    "from datetime import datetime, timedelta\n",
    "\n",
    "import warnings\n",
    "warnings.filterwarnings(\"ignore\")"
   ]
  },
  {
   "cell_type": "markdown",
   "metadata": {},
   "source": [
    "## загружаем данные"
   ]
  },
  {
   "cell_type": "code",
   "execution_count": null,
   "metadata": {},
   "outputs": [],
   "source": [
    "data = pd.read_csv('prepared_data.csv', sep=';')"
   ]
  },
  {
   "cell_type": "markdown",
   "metadata": {},
   "source": [
    "## Находим последовательность событий в процессе"
   ]
  },
  {
   "cell_type": "code",
   "execution_count": null,
   "metadata": {},
   "outputs": [],
   "source": [
    "def shift_event_column(df, id_column, col_transact, time_column):\n",
    "    \n",
    "    sort_grup_1 = df.groupby(id_column).apply(lambda x: x.sort_values(time_column))\n",
    "    \n",
    "    sort_grup_1['concept:name:2'] = pd.DataFrame(sort_grup_1.groupby(id_column).apply(lambda \\\n",
    "              x: x[col_transact].shift(periods=-1).fillna('Конец лога')))[col_transact].values\n",
    "    \n",
    "    sort_grup_1['transact'] = sort_grup_1[col_transact]+'-->'+sort_grup_1['concept:name:2']\n",
    "    \n",
    "    return sort_grup_1"
   ]
  },
  {
   "cell_type": "code",
   "execution_count": null,
   "metadata": {},
   "outputs": [],
   "source": [
    "def shift_time_column(df_shift_event, id_column, time_column):\n",
    "    \n",
    "    t_date = pd.to_datetime('2060-01-01 00:00:00.00')\n",
    "    \n",
    "    df_shift_event['time:timestamp:2'] = pd.DataFrame(df_shift_event.groupby(id_column).apply(lambda \\\n",
    "                        x: x[time_column].shift(periods=-1).fillna(t_date)))[time_column].values\n",
    "    \n",
    "    df_shift_event['time_diff'] = pd.to_datetime(df_shift_event['time:timestamp:2']) - \\\n",
    "                                  pd.to_datetime(df_shift_event[time_column])\n",
    "    \n",
    "    df_shift_event['time_diff'] = df_shift_event['time_diff'].apply(lambda x: \\\n",
    "                               0 if x.days > 1000 else x.total_seconds())\n",
    "\n",
    "    result = df_shift_event[['transact', 'time_diff']].reset_index()\n",
    "    result = result.drop('level_1', axis = 1)\n",
    "    \n",
    "    return result"
   ]
  },
  {
   "cell_type": "code",
   "execution_count": null,
   "metadata": {},
   "outputs": [],
   "source": [
    "%%time\n",
    "df_temp1 = shift_event_column(data, 'case_name', 'concept:name', 'time:timestamp')"
   ]
  },
  {
   "cell_type": "code",
   "execution_count": null,
   "metadata": {},
   "outputs": [],
   "source": [
    "%%time\n",
    "df_temp2 = shift_time_column(df_temp1, 'case_name', 'time:timestamp')"
   ]
  },
  {
   "cell_type": "code",
   "execution_count": null,
   "metadata": {},
   "outputs": [],
   "source": [
    "df_temp2.head()"
   ]
  },
  {
   "cell_type": "markdown",
   "metadata": {},
   "source": [
    "## Проводим подсчет событий"
   ]
  },
  {
   "cell_type": "code",
   "execution_count": null,
   "metadata": {},
   "outputs": [],
   "source": [
    "counts = pd.DataFrame(df_temp2['transact'].value_counts()).reset_index()\n",
    "counts2 = counts[counts['transact'] >= 60] ## только переходы частота которых превышает 60\n",
    "counts2.columns = ['transact', 'counts']\n",
    "transact = counts2['transact'].values\n",
    "countss = counts2['counts'].values"
   ]
  },
  {
   "cell_type": "markdown",
   "metadata": {},
   "source": [
    "## Строим частотный граф"
   ]
  },
  {
   "cell_type": "code",
   "execution_count": null,
   "metadata": {},
   "outputs": [],
   "source": [
    "def get_stat_freq(freq_to_int):\n",
    "    \n",
    "    percent_25 = int(np.percentile(freq_to_int, 25))\n",
    "    percent_50 = int(np.percentile(freq_to_int, 50))\n",
    "    percent_75 = int(np.percentile(freq_to_int, 75))\n",
    "    percent_95 = int(np.percentile(freq_to_int, 95))\n",
    "    \n",
    "    return [percent_25, percent_50, percent_75, percent_95]"
   ]
  },
  {
   "cell_type": "code",
   "execution_count": null,
   "metadata": {},
   "outputs": [],
   "source": [
    "def change_width_freq(count_transact, stat):\n",
    "    if count_transact <= stat[0]:\n",
    "        width = '1'\n",
    "    elif (count_transact > stat[0]) and (count_transact <= stat[1]):\n",
    "        width = '2'\n",
    "    elif (count_transact > stat[1]) and (count_transact <= stat[2]):\n",
    "        width = '3'\n",
    "    elif (count_transact > stat[2]) and (count_transact <= stat[3]):\n",
    "        width = '4'\n",
    "    elif count_transact > stat[3]:\n",
    "        width = '5'\n",
    "    return width"
   ]
  },
  {
   "cell_type": "code",
   "execution_count": null,
   "metadata": {},
   "outputs": [],
   "source": [
    "def change_color_freq(count_transact, stat):\n",
    "    if count_transact <= stat[0]:\n",
    "        color = 'brown'\n",
    "    elif (count_transact > stat[0]) and (count_transact <= stat[1]):\n",
    "        color = 'coral1'\n",
    "    elif (count_transact > stat[1]) and (count_transact <= stat[2]):\n",
    "        color = 'goldenrod'\n",
    "    elif (count_transact > stat[2]) and (count_transact <= stat[3]):\n",
    "        color = 'deepskyblue1'\n",
    "    elif count_transact > stat[3]:\n",
    "        color = 'cyan'\n",
    "    return color"
   ]
  },
  {
   "cell_type": "code",
   "execution_count": null,
   "metadata": {},
   "outputs": [],
   "source": [
    "f = Digraph('finite_state_machine', filename='Рисунок_8')\n",
    "f.attr(rankdir='T', size='8,5')\n",
    "\n",
    "f.attr('node', shape='box', style='filled', color='deepskyblue')\n",
    "f.node('A_Create Application', shape='doublecircle', color='deepskyblue1')\n",
    "f.node('Конец лога', shape='doublecircle', color='brown3')\n",
    "f.attr('node', shape='box', color='lightblue')\n",
    "\n",
    "for c in range(len(transact)):\n",
    "    stat_percent = get_stat_freq(countss)\n",
    "    tr = transact[c]\n",
    "    count = int(countss[c])\n",
    "    start = tr.split('-->')[0]\n",
    "    end = tr.split('-->')[1]\n",
    "\n",
    "    f.edge('{0}'.format(start), '{0}'.format(end), \n",
    "           label='{0}'.format(count), arrowhead='vee', \n",
    "           penwidth=change_width_freq(count, stat_percent), \n",
    "           color = change_color_freq(count, stat_percent), \n",
    "           fontcolor=change_color_freq(count, stat_percent))\n",
    "\n",
    "f.view()"
   ]
  },
  {
   "cell_type": "markdown",
   "metadata": {},
   "source": [
    "## Строим граф с отображением времени перехода"
   ]
  },
  {
   "cell_type": "code",
   "execution_count": null,
   "metadata": {},
   "outputs": [],
   "source": [
    "med_time = pd.DataFrame(df_temp2.groupby('transact')['time_diff'].agg(['min', 'max', 'median'])).reset_index()"
   ]
  },
  {
   "cell_type": "code",
   "execution_count": null,
   "metadata": {},
   "outputs": [],
   "source": [
    "# med_time = med_time[med_time['median'] > 0.1]"
   ]
  },
  {
   "cell_type": "code",
   "execution_count": null,
   "metadata": {},
   "outputs": [],
   "source": [
    "def secondsToText(secs):\n",
    "    \n",
    "#     secs = int(np.median(list_time))\n",
    "    if secs > 1:\n",
    "        days = round(secs//86400)\n",
    "        hours = round((secs - days*86400)//3600)\n",
    "        minutes = round((secs - days*86400 - hours*3600)//60)\n",
    "        seconds = round(secs - days*86400 - hours*3600 - minutes*60)\n",
    "        result = (\"{}d:\".format(days) if days else \"\") + \\\n",
    "        (\"{}h:\".format(hours) if hours else \"\") + \\\n",
    "        (\"{}m:\".format(minutes) if minutes else \"\") + \\\n",
    "        (\"{}s:\".format(seconds))\n",
    "    else:\n",
    "        result = str(round(secs, 4)) +' '+ 'sec'\n",
    "    \n",
    "    return result"
   ]
  },
  {
   "cell_type": "code",
   "execution_count": null,
   "metadata": {},
   "outputs": [],
   "source": [
    "def change_width(secs):\n",
    "    if secs <= 1:\n",
    "        width = '1'\n",
    "    elif (secs > 1) and (secs <= 60):\n",
    "        width = '2'\n",
    "    elif (secs > 60) and (secs <= 3600):\n",
    "        width = '3'\n",
    "    elif (secs > 3600) and (secs <= 36000):\n",
    "        width = '4'\n",
    "    elif secs > 36000:\n",
    "        width = '5'\n",
    "    return width"
   ]
  },
  {
   "cell_type": "code",
   "execution_count": null,
   "metadata": {},
   "outputs": [],
   "source": [
    "def change_color(secs):\n",
    "    if secs <= 1:\n",
    "        color = 'brown'\n",
    "    elif (secs > 1) and (secs <= 60):\n",
    "        color = 'coral1'\n",
    "    elif (secs > 60) and (secs <= 3600):\n",
    "        color = 'goldenrod'\n",
    "    elif (secs > 3600) and (secs <= 36000):\n",
    "        color = 'deepskyblue1'\n",
    "    elif secs > 36000:\n",
    "        color = 'cyan'\n",
    "    return color"
   ]
  },
  {
   "cell_type": "code",
   "execution_count": null,
   "metadata": {},
   "outputs": [],
   "source": [
    "list_trans = med_time['transact'].values\n",
    "times = med_time['median'].values"
   ]
  },
  {
   "cell_type": "code",
   "execution_count": null,
   "metadata": {},
   "outputs": [],
   "source": [
    "f = Digraph('finite_state_machine', filename='Рисунок_10')\n",
    "f.attr(rankdir='T', size='8,5')\n",
    "\n",
    "\n",
    "f.attr('node', shape='box', style='filled', color='deepskyblue')\n",
    "f.node('A_Create Application', shape='doublecircle')\n",
    "f.node('Конец лога', shape='doublecircle', color='brown3')\n",
    "f.attr('node', shape='box', color='lightblue')\n",
    "\n",
    "for c in range(len(list_trans)):\n",
    "    tr = list_trans[c]\n",
    "    time = float(times[c])\n",
    "    start = tr.split('-->')[0]\n",
    "    end = tr.split('-->')[1]\n",
    "\n",
    "    f.edge('{0}'.format(start), '{0}'.format(end), \n",
    "           label='{0}'.format(secondsToText(time)), \n",
    "           arrowhead='vee', \n",
    "           penwidth=change_width(time), \n",
    "           color = change_color(time),\n",
    "           fontcolor=change_color(time))"
   ]
  },
  {
   "cell_type": "code",
   "execution_count": null,
   "metadata": {},
   "outputs": [],
   "source": [
    "f.view()"
   ]
  },
  {
   "cell_type": "code",
   "execution_count": null,
   "metadata": {},
   "outputs": [],
   "source": []
  }
 ],
 "metadata": {
  "kernelspec": {
   "display_name": "Python 3",
   "language": "python",
   "name": "python3"
  },
  "language_info": {
   "codemirror_mode": {
    "name": "ipython",
    "version": 3
   },
   "file_extension": ".py",
   "mimetype": "text/x-python",
   "name": "python",
   "nbconvert_exporter": "python",
   "pygments_lexer": "ipython3",
   "version": "3.6.5"
  }
 },
 "nbformat": 4,
 "nbformat_minor": 2
}
